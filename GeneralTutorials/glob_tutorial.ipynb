{
 "cells": [
  {
   "cell_type": "markdown",
   "metadata": {},
   "source": [
    "## glob tutorial\n",
    "**Shizhe Cai**\n",
    "This tutorial introduces how to use glob, a very common, important but easily neglected python package.\n",
    "Please check this [link](https://pynative.com/python-glob/#:~:text=Python%20glob.,UNIX%20shell%2Dstyle%20wildcards) for more info."
   ]
  },
  {
   "cell_type": "code",
   "execution_count": 1,
   "metadata": {},
   "outputs": [],
   "source": [
    "import glob"
   ]
  },
  {
   "cell_type": "markdown",
   "metadata": {},
   "source": [
    "#### 1. Asterisk (*)\n",
    "_Asterisk *_ Matches zero or more characters"
   ]
  },
  {
   "cell_type": "markdown",
   "metadata": {},
   "source": [
    "Q1: How to find all the __ipynb__ files?"
   ]
  },
  {
   "cell_type": "code",
   "execution_count": 7,
   "metadata": {},
   "outputs": [
    {
     "name": "stdout",
     "output_type": "stream",
     "text": [
      "['glob_tutorial.ipynb', 'os_tutorial.ipynb']\n"
     ]
    }
   ],
   "source": [
    "print(glob.glob('*.ipynb'))"
   ]
  },
  {
   "cell_type": "markdown",
   "metadata": {},
   "source": [
    "Q2: How to find the __txt__ file in CommandLines folder?"
   ]
  },
  {
   "cell_type": "code",
   "execution_count": 9,
   "metadata": {},
   "outputs": [
    {
     "data": {
      "text/plain": [
       "['C:\\\\Users\\\\Shizh\\\\OneDrive - Maastricht University\\\\Code\\\\Spoon-Knife\\\\CommandLines\\\\Git_code_ssh.txt',\n",
       " 'C:\\\\Users\\\\Shizh\\\\OneDrive - Maastricht University\\\\Code\\\\Spoon-Knife\\\\CommandLines\\\\Unzip_Tar_cmd.txt']"
      ]
     },
     "execution_count": 9,
     "metadata": {},
     "output_type": "execute_result"
    }
   ],
   "source": [
    "path = r\"C:\\Users\\Shizh\\OneDrive - Maastricht University\\Code\\Spoon-Knife\\CommandLines\"\n",
    "glob.glob(path + '/*.txt')"
   ]
  },
  {
   "cell_type": "markdown",
   "metadata": {},
   "source": [
    "Or to do it recursively!\n",
    "\n",
    "> The glob module supports the __**__ directive. When you set a recursive flag to True, the glob method parses the given path look recursively in the directories."
   ]
  },
  {
   "cell_type": "code",
   "execution_count": 14,
   "metadata": {},
   "outputs": [
    {
     "name": "stdout",
     "output_type": "stream",
     "text": [
      "C:\\Users\\Shizh\\OneDrive - Maastricht University\\Code\\Spoon-Knife\\CommandLines\\Git_code_ssh.txt\n",
      "C:\\Users\\Shizh\\OneDrive - Maastricht University\\Code\\Spoon-Knife\\CommandLines\\Unzip_Tar_cmd.txt\n"
     ]
    }
   ],
   "source": [
    "# use the path for the whole directiory\n",
    "dir = r\"C:\\Users\\Shizh\\OneDrive - Maastricht University\\Code\\Spoon-Knife\"\n",
    "for file in glob.glob(dir + '/**/*.txt', recursive=True):\n",
    "    print(file)"
   ]
  },
  {
   "cell_type": "markdown",
   "metadata": {},
   "source": [
    "Q3: How to find a file name always including ''tutorial''?"
   ]
  },
  {
   "cell_type": "code",
   "execution_count": 19,
   "metadata": {},
   "outputs": [
    {
     "name": "stdout",
     "output_type": "stream",
     "text": [
      "['glob_tutorial.ipynb', 'os_tutorial.ipynb']\n"
     ]
    }
   ],
   "source": [
    "print(glob.glob('*_tutorial*'))"
   ]
  },
  {
   "cell_type": "markdown",
   "metadata": {},
   "source": [
    "#### 2. Question Mark (?)\n",
    "\n",
    "Question Mark __?__ Match Single character in File Name"
   ]
  },
  {
   "cell_type": "markdown",
   "metadata": {},
   "source": [
    "Q1: How to find a file path with only __4__ charactors before *'_tutorial'*?"
   ]
  },
  {
   "cell_type": "code",
   "execution_count": 20,
   "metadata": {},
   "outputs": [
    {
     "name": "stdout",
     "output_type": "stream",
     "text": [
      "['glob_tutorial.ipynb']\n"
     ]
    }
   ],
   "source": [
    "print(glob.glob('????_tutorial*'))"
   ]
  },
  {
   "cell_type": "markdown",
   "metadata": {},
   "source": [
    "#### 3. square brackets ([])\n",
    "square brackets ([]) can contain a range of characters or numbers as the search string"
   ]
  },
  {
   "cell_type": "markdown",
   "metadata": {},
   "source": [
    "Q1: How to find a file with a start character from [a-h] and an ending character from [a-c]?\n"
   ]
  },
  {
   "cell_type": "code",
   "execution_count": 29,
   "metadata": {},
   "outputs": [
    {
     "name": "stdout",
     "output_type": "stream",
     "text": [
      "C:\\Users\\Shizh\\OneDrive - Maastricht University\\Code\\Spoon-Knife\\GeneralTutorials\\glob_tutorial.ipynb\n"
     ]
    }
   ],
   "source": [
    "dir = r\"C:\\Users\\Shizh\\OneDrive - Maastricht University\\Code\\Spoon-Knife\"\n",
    "for file in glob.glob(dir + '/**/[f-h]*.*[a-c]', recursive=True):\n",
    "    print(file)"
   ]
  },
  {
   "cell_type": "markdown",
   "metadata": {},
   "source": [
    "#### 4. iglob() as an iterator\n",
    "\n",
    "_glob.glob()_ return a list of matched files, while __glob.iglob()__ return an iterator of matched files.\n",
    "\n",
    "This methed is good when the list is too big to store in your RAM."
   ]
  },
  {
   "cell_type": "code",
   "execution_count": 32,
   "metadata": {},
   "outputs": [
    {
     "name": "stdout",
     "output_type": "stream",
     "text": [
      "golb.glob will return a list: ['C:\\\\Users\\\\Shizh\\\\OneDrive - Maastricht University\\\\Code\\\\Spoon-Knife\\\\CommandLines\\\\Git_code_ssh.txt', 'C:\\\\Users\\\\Shizh\\\\OneDrive - Maastricht University\\\\Code\\\\Spoon-Knife\\\\CommandLines\\\\Unzip_Tar_cmd.txt']\n",
      "but \n",
      "the path of file number 0 is C:\\Users\\Shizh\\OneDrive - Maastricht University\\Code\\Spoon-Knife\\CommandLines\\Git_code_ssh.txt\n",
      "the path of file number 1 is C:\\Users\\Shizh\\OneDrive - Maastricht University\\Code\\Spoon-Knife\\CommandLines\\Unzip_Tar_cmd.txt\n"
     ]
    }
   ],
   "source": [
    "path = r\"C:\\Users\\Shizh\\OneDrive - Maastricht University\\Code\\Spoon-Knife\\CommandLines\"\n",
    "print(f\"golb.glob will return a list: {glob.glob(path + '/*.txt')}\")\n",
    "\n",
    "print('but ')\n",
    "for i, pth in enumerate(glob.iglob(path + '/*.txt')):\n",
    "    print(f'the path of file number {i} is {pth}')"
   ]
  },
  {
   "cell_type": "markdown",
   "metadata": {},
   "source": [
    "#### 5. escape() for Special Characters \n",
    "\n",
    "\n",
    "Search for Filenames with Special Characters ($,&,@,_,-) using escape() method"
   ]
  },
  {
   "cell_type": "code",
   "execution_count": 33,
   "metadata": {},
   "outputs": [
    {
     "name": "stdout",
     "output_type": "stream",
     "text": [
      "glob_tutorial.ipynb\n",
      "os_tutorial.ipynb\n"
     ]
    }
   ],
   "source": [
    "char_seq = \"_$#-\"\n",
    "for char in char_seq:\n",
    "    esc_set = \"*\" + glob.escape(char) + \"*\" + \".ipynb\"\n",
    "    for file in (glob.glob(esc_set)):\n",
    "        print(file)"
   ]
  },
  {
   "cell_type": "markdown",
   "metadata": {},
   "source": [
    "#### 6. Multiple Extensions\n",
    "We can search files having different extensions using the glob module.\n"
   ]
  },
  {
   "cell_type": "code",
   "execution_count": 37,
   "metadata": {},
   "outputs": [
    {
     "name": "stdout",
     "output_type": "stream",
     "text": [
      "All ipynb and txt files\n",
      "['C:\\\\Users\\\\Shizh\\\\OneDrive - Maastricht University\\\\Code\\\\Spoon-Knife\\\\GeneralTutorials\\\\glob_tutorial.ipynb', 'C:\\\\Users\\\\Shizh\\\\OneDrive - Maastricht University\\\\Code\\\\Spoon-Knife\\\\GeneralTutorials\\\\os_tutorial.ipynb', 'C:\\\\Users\\\\Shizh\\\\OneDrive - Maastricht University\\\\Code\\\\Spoon-Knife\\\\CommandLines\\\\Git_code_ssh.txt', 'C:\\\\Users\\\\Shizh\\\\OneDrive - Maastricht University\\\\Code\\\\Spoon-Knife\\\\CommandLines\\\\Unzip_Tar_cmd.txt']\n"
     ]
    }
   ],
   "source": [
    "path = r\"C:\\Users\\Shizh\\OneDrive - Maastricht University\\Code\\Spoon-Knife\"\n",
    "\n",
    "print(\"All ipynb and txt files\")\n",
    "extensions = ('*.ipynb', '*.txt')\n",
    "files_list = []\n",
    "for ext in extensions:\n",
    "    files_list.extend(glob.glob(path + '/**/' + ext))\n",
    "print(files_list)"
   ]
  }
 ],
 "metadata": {
  "kernelspec": {
   "display_name": "snakes",
   "language": "python",
   "name": "python3"
  },
  "language_info": {
   "codemirror_mode": {
    "name": "ipython",
    "version": 3
   },
   "file_extension": ".py",
   "mimetype": "text/x-python",
   "name": "python",
   "nbconvert_exporter": "python",
   "pygments_lexer": "ipython3",
   "version": "3.11.5"
  }
 },
 "nbformat": 4,
 "nbformat_minor": 2
}
