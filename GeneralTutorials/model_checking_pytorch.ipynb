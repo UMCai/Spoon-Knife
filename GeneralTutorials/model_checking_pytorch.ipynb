{
 "cells": [
  {
   "cell_type": "markdown",
   "metadata": {},
   "source": [
    "## Pytorch model checking cheat list\n",
    "\n",
    "In this list, I list all the common and useful code to quick check the model and make innovation.\n"
   ]
  },
  {
   "cell_type": "markdown",
   "metadata": {},
   "source": [
    "1. to check model struture\n",
    "    ~~~\n",
    "    model.eval()\n",
    "    ~~~\n",
    "2. to check model all parameters at once\n",
    "    ~~~\n",
    "    [(name, param.shape) for name, param in model.named_parameters()]\n",
    "    ~~~\n",
    "3. to check parameter of any layer(block of layer)\n",
    "    ~~~\n",
    "    list(model.children())[n].state_dict()\n",
    "    ~~~\n",
    "4. to freeze the model \n",
    "    ~~~\n",
    "    for param in model.parameters():\n",
    "        param.requires_grad = False\n",
    "    ~~~\n",
    "5. to check if the model is frozen or not\n",
    "    ~~~\n",
    "    for name, param in model.named_parameters():\n",
    "        print('Name: ', name, \" Requires_Grad: \", param.requires_grad)\n",
    "    ~~~\n",
    "6. to slice part of the model (delete the last layer)\n",
    "    ~~~\n",
    "    modules = list(model.children())[:-1]     \n",
    "    model = nn.Sequential(*modules)\n",
    "    ~~~\n",
    "7. to save/load the model\n",
    "    ~~~\n",
    "    torch.save(model.state_dict(), PATH)  # PATH should end with /XXX.pth\n",
    "    torch.load_state_dict(torch.load(PATH))\n",
    "    ~~~"
   ]
  },
  {
   "cell_type": "code",
   "execution_count": null,
   "metadata": {},
   "outputs": [],
   "source": [
    "# this example show how to frozen the layers in the pretrained model\n",
    "# ref: https://discuss.pytorch.org/t/what-does-param-requires-grad-false-or-true-do-in-the-pretrained-model/99026/2\n",
    "\n",
    "import torch, torchvision\n",
    "import torch.nn as nn\n",
    "from collections import OrderedDict\n",
    "\n",
    "model = torchvision.models.resnet18(pretrained=True)\n",
    "# to check model structure\n",
    "model.eval()\n"
   ]
  },
  {
   "cell_type": "code",
   "execution_count": null,
   "metadata": {},
   "outputs": [],
   "source": [
    "for param in model.parameters():\n",
    "    param.requires_grad = False\n",
    "    \n",
    "model.fc = nn.Sequential (OrderedDict ([\n",
    "    ('fc1', nn.Linear (512, 256)),\n",
    "    (\"relu1\", nn.ReLU ()),\n",
    "    ('output', nn.LogSoftmax (dim =1))\n",
    "]))\n",
    "\n",
    "for name, param in model.named_parameters():\n",
    "    print('Name: ', name, \" Requires_Grad: \", param.requires_grad)"
   ]
  }
 ],
 "metadata": {
  "kernelspec": {
   "display_name": "monai_env",
   "language": "python",
   "name": "python3"
  },
  "language_info": {
   "codemirror_mode": {
    "name": "ipython",
    "version": 3
   },
   "file_extension": ".py",
   "mimetype": "text/x-python",
   "name": "python",
   "nbconvert_exporter": "python",
   "pygments_lexer": "ipython3",
   "version": "3.11.5"
  }
 },
 "nbformat": 4,
 "nbformat_minor": 2
}
