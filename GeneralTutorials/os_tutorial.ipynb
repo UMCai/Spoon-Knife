{
 "cells": [
  {
   "cell_type": "markdown",
   "metadata": {},
   "source": [
    "## os tutorial\n",
    "**Shizhe Cai**\n",
    "\n",
    "This tutorial introduces how to use os python package to navigate the file system."
   ]
  },
  {
   "cell_type": "code",
   "execution_count": null,
   "metadata": {},
   "outputs": [],
   "source": []
  }
 ],
 "metadata": {
  "language_info": {
   "name": "python"
  }
 },
 "nbformat": 4,
 "nbformat_minor": 2
}
