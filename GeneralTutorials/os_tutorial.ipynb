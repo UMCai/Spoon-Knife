{
 "cells": [
  {
   "cell_type": "markdown",
   "metadata": {},
   "source": [
    "## os tutorial\n",
    "**Shizhe Cai**\n",
    "\n",
    "This tutorial introduces how to use os python package to navigate the file system.\n",
    "\n",
    "> The OS module in Python provides functions for interacting with the operating system. OS comes under Python’s standard utility modules. \n",
    "> This module provides a portable way of using operating >system-dependent functionality. The *os* and *os.path* modules include many functions to interact with the file system."
   ]
  },
  {
   "cell_type": "markdown",
   "metadata": {},
   "source": [
    "#### Get current working directory"
   ]
  },
  {
   "cell_type": "code",
   "execution_count": 1,
   "metadata": {},
   "outputs": [],
   "source": [
    "import os  "
   ]
  },
  {
   "cell_type": "code",
   "execution_count": 13,
   "metadata": {},
   "outputs": [
    {
     "name": "stdout",
     "output_type": "stream",
     "text": [
      "Current working directory: c:\\Users\\Shizh\\OneDrive - Maastricht University\\Code\\Spoon-Knife\\GeneralTutorials\n"
     ]
    }
   ],
   "source": [
    "# Get the current working  \n",
    "# directory (CWD)  \n",
    "cwd = os.getcwd()  \n",
    "      \n",
    "# Print the current working  \n",
    "# directory (CWD)  \n",
    "print(\"Current working directory:\", cwd)  "
   ]
  },
  {
   "cell_type": "code",
   "execution_count": 14,
   "metadata": {},
   "outputs": [
    {
     "data": {
      "text/plain": [
       "str"
      ]
     },
     "execution_count": 14,
     "metadata": {},
     "output_type": "execute_result"
    }
   ],
   "source": [
    "# the cwd is stored as a string!\n",
    "type(cwd)"
   ]
  },
  {
   "cell_type": "markdown",
   "metadata": {},
   "source": [
    "this is the same as directly using _pwd_"
   ]
  },
  {
   "cell_type": "code",
   "execution_count": 17,
   "metadata": {},
   "outputs": [
    {
     "data": {
      "text/plain": [
       "'c:\\\\Users\\\\Shizh\\\\OneDrive - Maastricht University\\\\Code\\\\Spoon-Knife\\\\GeneralTutorials'"
      ]
     },
     "execution_count": 17,
     "metadata": {},
     "output_type": "execute_result"
    }
   ],
   "source": [
    "pwd"
   ]
  },
  {
   "cell_type": "markdown",
   "metadata": {},
   "source": [
    "#### change the directory"
   ]
  },
  {
   "cell_type": "code",
   "execution_count": 21,
   "metadata": {},
   "outputs": [
    {
     "name": "stdout",
     "output_type": "stream",
     "text": [
      "Current working directory before\n",
      "c:\\Users\\Shizh\\OneDrive - Maastricht University\\Code\\Spoon-Knife\\GeneralTutorials\n",
      "\n",
      "Current working directory before\n",
      "c:\\Users\\Shizh\\OneDrive - Maastricht University\\Code\\Spoon-Knife\n",
      "\n"
     ]
    }
   ],
   "source": [
    "   \n",
    "# Function to Get the current   \n",
    "# working directory  \n",
    "def current_path():  \n",
    "    print(\"Current working directory before\")  \n",
    "    print(os.getcwd())  \n",
    "    print()  \n",
    "    \n",
    "    \n",
    "# Driver's code  \n",
    "# Printing CWD before  \n",
    "current_path()  \n",
    "    \n",
    "# Changing the CWD  \n",
    "os.chdir('../')  \n",
    "    \n",
    "# Printing CWD after  \n",
    "current_path()  "
   ]
  },
  {
   "cell_type": "code",
   "execution_count": 24,
   "metadata": {},
   "outputs": [
    {
     "name": "stdout",
     "output_type": "stream",
     "text": [
      " Volume in drive C is Windows\n",
      " Volume Serial Number is 1C7D-43C3\n",
      "\n",
      " Directory of c:\\Users\\Shizh\\OneDrive - Maastricht University\\Code\\Spoon-Knife\n",
      "\n",
      "07/10/2023  00:47    <DIR>          .\n",
      "16/10/2023  11:26    <DIR>          ..\n",
      "16/10/2023  13:27    <DIR>          .git\n",
      "16/10/2023  11:26    <DIR>          CommandLines\n",
      "06/10/2023  23:41    <DIR>          GeneralTutorials\n",
      "07/10/2023  00:51               101 hello_world.py\n",
      "16/10/2023  15:45               637 README.md\n",
      "               2 File(s)            738 bytes\n",
      "               5 Dir(s)  398.646.345.728 bytes free\n"
     ]
    }
   ],
   "source": [
    "ls "
   ]
  },
  {
   "cell_type": "code",
   "execution_count": 25,
   "metadata": {},
   "outputs": [
    {
     "data": {
      "text/plain": [
       "'c:\\\\Users\\\\Shizh\\\\OneDrive - Maastricht University\\\\Code\\\\Spoon-Knife'"
      ]
     },
     "execution_count": 25,
     "metadata": {},
     "output_type": "execute_result"
    }
   ],
   "source": [
    "pwd"
   ]
  },
  {
   "cell_type": "markdown",
   "metadata": {},
   "source": [
    "#### Make and remove a directory"
   ]
  },
  {
   "cell_type": "code",
   "execution_count": 32,
   "metadata": {},
   "outputs": [
    {
     "name": "stdout",
     "output_type": "stream",
     "text": [
      "c:\\Users\\Shizh\\OneDrive - Maastricht University\\Code\\Spoon-Knife\n",
      "Directory 'tmp_folder' created\n"
     ]
    }
   ],
   "source": [
    "import os\n",
    "\n",
    "# create a new folder under Spoon-Knife directory, \n",
    "parent_dir = os.getcwd()\n",
    "print(parent_dir)\n",
    "\n",
    "\n",
    "folder_name = \"tmp_folder\"\n",
    "path = os.path.join(parent_dir, folder_name) \n",
    "os.makedirs(path)\n",
    "print(\"Directory '% s' created\" % folder_name)  "
   ]
  },
  {
   "cell_type": "code",
   "execution_count": 33,
   "metadata": {},
   "outputs": [
    {
     "name": "stdout",
     "output_type": "stream",
     "text": [
      "Files and directories in ' c:\\Users\\Shizh\\OneDrive - Maastricht University\\Code\\Spoon-Knife\\tmp_folder ' :\n",
      "[]\n"
     ]
    }
   ],
   "source": [
    "# now instead of using ls to get the list of path\n",
    "# Get the list of all files and directories  \n",
    "# in current path\n",
    "\n",
    "dir_list = os.listdir(path)  \n",
    "  \n",
    "print(\"Files and directories in '\", path, \"' :\")  \n",
    "  \n",
    "# print the list  \n",
    "print(dir_list)  \n",
    "\n",
    "# there is no file under this path\n"
   ]
  },
  {
   "cell_type": "code",
   "execution_count": 38,
   "metadata": {},
   "outputs": [],
   "source": [
    "# now let's add a .txt file there\n",
    "f = open(os.path.join(path, \"tmpfile.txt\"), \"w\")\n",
    "f.write(\"This is a tmp txt file \\n\")\n",
    "lines = [\"Hello world \\n\",\"Goodbye \\n\",\"I am done \\n\"]\n",
    "f.writelines(lines)\n",
    "f.close()"
   ]
  },
  {
   "cell_type": "code",
   "execution_count": 39,
   "metadata": {},
   "outputs": [
    {
     "name": "stdout",
     "output_type": "stream",
     "text": [
      "Files and directories in ' c:\\Users\\Shizh\\OneDrive - Maastricht University\\Code\\Spoon-Knife\\tmp_folder ' :\n",
      "['tmpfile.txt']\n"
     ]
    }
   ],
   "source": [
    "# check the path again\n",
    "dir_list = os.listdir(path)  \n",
    "print(\"Files and directories in '\", path, \"' :\")  \n",
    "# print the list  \n",
    "print(dir_list)  "
   ]
  },
  {
   "cell_type": "code",
   "execution_count": 48,
   "metadata": {},
   "outputs": [
    {
     "name": "stdout",
     "output_type": "stream",
     "text": [
      "c:\\Users\\Shizh\\OneDrive - Maastricht University\\Code\\Spoon-Knife\\tmp_folder\n",
      "['c:\\\\Users\\\\Shizh\\\\OneDrive - Maastricht University\\\\Code\\\\Spoon-Knife\\\\tmp_folder\\\\tmpfile.txt']\n"
     ]
    }
   ],
   "source": [
    "# now let's remove this tmp_folder\n",
    "print(path)\n",
    "\n",
    "# os.remove is used to remove files not folder! \n",
    "import glob\n",
    "file_list = glob.glob(path + '/*')\n",
    "print(file_list)\n",
    "for i in file_list:\n",
    "    os.remove(i) "
   ]
  },
  {
   "cell_type": "code",
   "execution_count": 49,
   "metadata": {},
   "outputs": [],
   "source": [
    "# now since the tmp_folder is empty, let's remove the folder\n",
    "os.rmdir(path)"
   ]
  },
  {
   "cell_type": "markdown",
   "metadata": {},
   "source": [
    "#### common used function"
   ]
  },
  {
   "cell_type": "code",
   "execution_count": 50,
   "metadata": {},
   "outputs": [
    {
     "data": {
      "text/plain": [
       "'nt'"
      ]
     },
     "execution_count": 50,
     "metadata": {},
     "output_type": "execute_result"
    }
   ],
   "source": [
    "os.name"
   ]
  },
  {
   "cell_type": "code",
   "execution_count": 55,
   "metadata": {},
   "outputs": [
    {
     "name": "stdout",
     "output_type": "stream",
     "text": [
      "c:\\Users\\Shizh\\OneDrive - Maastricht University\\Code\\Spoon-Knife\\GeneralTutorials\n"
     ]
    },
    {
     "data": {
      "text/plain": [
       "True"
      ]
     },
     "execution_count": 55,
     "metadata": {},
     "output_type": "execute_result"
    }
   ],
   "source": [
    "# os.path.exists(): This method will check whether a file exists or not by passing the name of the file as a parameter. \n",
    "# OS module has a sub-module named PATH by using which we can perform many more functions. \n",
    "print(cwd)\n",
    "os.path.exists(cwd + '\\os_tutorial.ipynb')"
   ]
  },
  {
   "cell_type": "code",
   "execution_count": 58,
   "metadata": {},
   "outputs": [
    {
     "name": "stdout",
     "output_type": "stream",
     "text": [
      "c:\\Users\\Shizh\\OneDrive - Maastricht University\\Code\\Spoon-Knife\\GeneralTutorials\\os_tutorial.ipynb\n",
      "Size of the file is 457  bytes.\n"
     ]
    }
   ],
   "source": [
    "# os.path.getsize(): In this method, python will give us the size of the file in bytes. \n",
    "# To use this method we need to pass the name of the file as a parameter.\n",
    "path = os.path.join(cwd, 'os_tutorial.ipynb')\n",
    "print(path)\n",
    "size = os.path.getsize(path)\n",
    "print(\"Size of the file is\", size,\" bytes.\")"
   ]
  },
  {
   "cell_type": "code",
   "execution_count": null,
   "metadata": {},
   "outputs": [],
   "source": []
  }
 ],
 "metadata": {
  "kernelspec": {
   "display_name": "base",
   "language": "python",
   "name": "python3"
  },
  "language_info": {
   "codemirror_mode": {
    "name": "ipython",
    "version": 3
   },
   "file_extension": ".py",
   "mimetype": "text/x-python",
   "name": "python",
   "nbconvert_exporter": "python",
   "pygments_lexer": "ipython3",
   "version": "3.11.4"
  }
 },
 "nbformat": 4,
 "nbformat_minor": 2
}
