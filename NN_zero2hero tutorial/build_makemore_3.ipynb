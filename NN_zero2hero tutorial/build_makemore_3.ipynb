{
 "cells": [
  {
   "cell_type": "markdown",
   "metadata": {},
   "source": [
    "## Build makemore part 3\n",
    "\n",
    "ref: [link](https://youtu.be/P6sfmUTpUmc?si=RzKlyjAX76xuVNEs)"
   ]
  },
  {
   "cell_type": "code",
   "execution_count": 1,
   "metadata": {},
   "outputs": [],
   "source": [
    "import torch \n",
    "import torch.nn.functional as F\n",
    "import matplotlib.pyplot as plt\n",
    "%matplotlib inline"
   ]
  },
  {
   "cell_type": "code",
   "execution_count": 2,
   "metadata": {},
   "outputs": [
    {
     "data": {
      "text/plain": [
       "(['emma', 'olivia', 'ava', 'isabella', 'sophia', 'charlotte', 'mia', 'amelia'],\n",
       " 32033)"
      ]
     },
     "execution_count": 2,
     "metadata": {},
     "output_type": "execute_result"
    }
   ],
   "source": [
    "# read in all the words \n",
    "words = open('names.txt', 'r').read().splitlines()\n",
    "words[:8], len(words)\n"
   ]
  },
  {
   "cell_type": "code",
   "execution_count": 7,
   "metadata": {},
   "outputs": [],
   "source": [
    "chars = sorted(list(set(''.join(words))))\n",
    "stoi = {s:i+1 for i,s in enumerate(chars)}\n",
    "stoi['.'] = 0\n",
    "itos = {i:s for s,i in stoi.items()}\n",
    "vocab_size = len(itos)"
   ]
  },
  {
   "cell_type": "code",
   "execution_count": 9,
   "metadata": {},
   "outputs": [
    {
     "name": "stdout",
     "output_type": "stream",
     "text": [
      "torch.Size([182625, 3]) torch.Size([182625])\n",
      "torch.Size([22655, 3]) torch.Size([22655])\n",
      "torch.Size([22866, 3]) torch.Size([22866])\n"
     ]
    }
   ],
   "source": [
    "block_size = 3\n",
    "\n",
    "def build_dataset(words):\n",
    "    X, Y = [], []\n",
    "    for w in words:\n",
    "        context = [0]*block_size\n",
    "        for ch in w + '.':\n",
    "            ix = stoi[ch]\n",
    "            X.append(context)\n",
    "            Y.append(ix)\n",
    "            context = context[1:] + [ix]\n",
    "            \n",
    "    X = torch.tensor(X)\n",
    "    Y = torch.tensor(Y)\n",
    "    print(X.shape, Y.shape)\n",
    "    return X, Y\n",
    "\n",
    "import random\n",
    "random.seed(42)\n",
    "random.shuffle(words)\n",
    "n1 = int(0.8*len(words))\n",
    "n2 = int(0.9*len(words))\n",
    "\n",
    "Xtr, Ytr = build_dataset(words[:n1])\n",
    "Xdev, Ydev = build_dataset(words[n1:n2])\n",
    "Xte, Yte = build_dataset(words[n2:])\n",
    "\n",
    "\n",
    "\n"
   ]
  },
  {
   "cell_type": "code",
   "execution_count": 19,
   "metadata": {},
   "outputs": [
    {
     "name": "stdout",
     "output_type": "stream",
     "text": [
      "11897\n"
     ]
    }
   ],
   "source": [
    "n_embd = 10\n",
    "n_hidden = 200\n",
    "\n",
    "g = torch.Generator().manual_seed(2147483647)\n",
    "C = torch.randn((vocab_size, n_embd), generator=g)\n",
    "W1 = torch.randn((n_embd * block_size, n_hidden), generator=g)\n",
    "b1 = torch.randn(n_hidden,  generator=g)\n",
    "W2 = torch.randn((n_hidden, vocab_size),  generator=g)\n",
    "b2 = torch.randn(vocab_size,  generator=g)\n",
    "\n",
    "parameters = [C, W1, b1, W2, b2]\n",
    "print(sum(p.nelement() for p in parameters))\n",
    "for p in parameters:\n",
    "    p.requires_grad = True"
   ]
  },
  {
   "cell_type": "code",
   "execution_count": 26,
   "metadata": {},
   "outputs": [
    {
     "name": "stdout",
     "output_type": "stream",
     "text": [
      "      0/ 200000:27.786318\n",
      "   1000/ 200000:3.175574\n",
      "   2000/ 200000:3.019442\n",
      "   3000/ 200000:3.011967\n",
      "   4000/ 200000:3.194317\n",
      "   5000/ 200000:2.272421\n",
      "   6000/ 200000:3.390795\n",
      "   7000/ 200000:2.313213\n",
      "   8000/ 200000:2.569918\n",
      "   9000/ 200000:2.698135\n",
      "  10000/ 200000:2.716024\n",
      "  11000/ 200000:2.103650\n",
      "  12000/ 200000:2.343048\n",
      "  13000/ 200000:2.543094\n",
      "  14000/ 200000:2.056311\n",
      "  15000/ 200000:2.333560\n",
      "  16000/ 200000:2.258273\n",
      "  17000/ 200000:1.982258\n",
      "  18000/ 200000:2.121075\n",
      "  19000/ 200000:2.554124\n",
      "  20000/ 200000:2.845383\n",
      "  21000/ 200000:2.379811\n",
      "  22000/ 200000:1.899595\n",
      "  23000/ 200000:2.296866\n",
      "  24000/ 200000:1.996233\n",
      "  25000/ 200000:1.986699\n",
      "  26000/ 200000:2.161963\n",
      "  27000/ 200000:2.508444\n",
      "  28000/ 200000:2.231983\n",
      "  29000/ 200000:2.286645\n",
      "  30000/ 200000:2.001054\n",
      "  31000/ 200000:2.228453\n",
      "  32000/ 200000:2.309313\n",
      "  33000/ 200000:2.256622\n",
      "  34000/ 200000:1.981870\n",
      "  35000/ 200000:2.288657\n",
      "  36000/ 200000:1.611940\n",
      "  37000/ 200000:2.123038\n",
      "  38000/ 200000:2.030658\n",
      "  39000/ 200000:2.319519\n",
      "  40000/ 200000:2.055083\n",
      "  41000/ 200000:2.858412\n",
      "  42000/ 200000:2.368803\n",
      "  43000/ 200000:2.424981\n",
      "  44000/ 200000:2.253339\n",
      "  45000/ 200000:2.298664\n",
      "  46000/ 200000:2.071677\n",
      "  47000/ 200000:2.496538\n",
      "  48000/ 200000:2.353501\n",
      "  49000/ 200000:2.206984\n",
      "  50000/ 200000:2.340158\n",
      "  51000/ 200000:2.359313\n",
      "  52000/ 200000:2.470896\n",
      "  53000/ 200000:2.455099\n",
      "  54000/ 200000:2.073780\n",
      "  55000/ 200000:2.237662\n",
      "  56000/ 200000:2.636219\n",
      "  57000/ 200000:2.017974\n",
      "  58000/ 200000:2.340698\n",
      "  59000/ 200000:2.760808\n",
      "  60000/ 200000:2.280171\n",
      "  61000/ 200000:2.074140\n",
      "  62000/ 200000:2.332087\n",
      "  63000/ 200000:2.173184\n",
      "  64000/ 200000:2.265642\n",
      "  65000/ 200000:2.151012\n",
      "  66000/ 200000:2.242144\n",
      "  67000/ 200000:2.268912\n",
      "  68000/ 200000:2.067596\n",
      "  69000/ 200000:2.036263\n",
      "  70000/ 200000:2.853633\n",
      "  71000/ 200000:2.392931\n",
      "  72000/ 200000:2.362152\n",
      "  73000/ 200000:1.914523\n",
      "  74000/ 200000:2.506233\n",
      "  75000/ 200000:1.947799\n",
      "  76000/ 200000:2.161260\n",
      "  77000/ 200000:2.044769\n",
      "  78000/ 200000:2.305579\n",
      "  79000/ 200000:1.977242\n",
      "  80000/ 200000:2.326246\n",
      "  81000/ 200000:2.421216\n",
      "  82000/ 200000:2.188800\n",
      "  83000/ 200000:2.000766\n",
      "  84000/ 200000:2.051144\n",
      "  85000/ 200000:1.800556\n",
      "  86000/ 200000:2.367067\n",
      "  87000/ 200000:2.227465\n",
      "  88000/ 200000:1.992001\n",
      "  89000/ 200000:2.387758\n",
      "  90000/ 200000:2.437538\n",
      "  91000/ 200000:2.814157\n",
      "  92000/ 200000:2.021755\n",
      "  93000/ 200000:1.978037\n",
      "  94000/ 200000:2.385128\n",
      "  95000/ 200000:2.528229\n",
      "  96000/ 200000:2.416446\n",
      "  97000/ 200000:1.960482\n",
      "  98000/ 200000:2.535007\n",
      "  99000/ 200000:2.132689\n",
      " 100000/ 200000:2.238609\n",
      " 101000/ 200000:2.213076\n",
      " 102000/ 200000:2.242903\n",
      " 103000/ 200000:2.038486\n",
      " 104000/ 200000:2.207663\n",
      " 105000/ 200000:2.735226\n",
      " 106000/ 200000:2.314182\n",
      " 107000/ 200000:2.157882\n",
      " 108000/ 200000:2.156878\n",
      " 109000/ 200000:2.622020\n",
      " 110000/ 200000:2.758932\n",
      " 111000/ 200000:1.873374\n",
      " 112000/ 200000:2.131988\n",
      " 113000/ 200000:2.049578\n",
      " 114000/ 200000:2.425932\n",
      " 115000/ 200000:2.127858\n",
      " 116000/ 200000:1.983332\n",
      " 117000/ 200000:2.167270\n",
      " 118000/ 200000:2.458528\n",
      " 119000/ 200000:1.819230\n",
      " 120000/ 200000:2.119147\n",
      " 121000/ 200000:2.257342\n",
      " 122000/ 200000:2.203674\n",
      " 123000/ 200000:2.349460\n",
      " 124000/ 200000:2.201227\n",
      " 125000/ 200000:2.383967\n",
      " 126000/ 200000:2.108726\n",
      " 127000/ 200000:2.498793\n",
      " 128000/ 200000:2.331749\n",
      " 129000/ 200000:2.405945\n",
      " 130000/ 200000:2.349534\n",
      " 131000/ 200000:2.158429\n",
      " 132000/ 200000:2.464145\n",
      " 133000/ 200000:2.878320\n",
      " 134000/ 200000:2.384147\n",
      " 135000/ 200000:2.219914\n",
      " 136000/ 200000:2.014486\n",
      " 137000/ 200000:2.500449\n",
      " 138000/ 200000:2.314874\n",
      " 139000/ 200000:2.002493\n",
      " 140000/ 200000:2.195410\n",
      " 141000/ 200000:1.938384\n",
      " 142000/ 200000:2.468542\n",
      " 143000/ 200000:2.437083\n",
      " 144000/ 200000:1.879700\n",
      " 145000/ 200000:2.233069\n",
      " 146000/ 200000:2.041401\n",
      " 147000/ 200000:2.236067\n",
      " 148000/ 200000:1.907754\n",
      " 149000/ 200000:2.142351\n",
      " 150000/ 200000:2.292604\n",
      " 151000/ 200000:2.869431\n",
      " 152000/ 200000:2.253417\n",
      " 153000/ 200000:2.136527\n",
      " 154000/ 200000:2.247369\n",
      " 155000/ 200000:2.272705\n",
      " 156000/ 200000:2.195914\n",
      " 157000/ 200000:2.206725\n",
      " 158000/ 200000:2.407693\n",
      " 159000/ 200000:2.180612\n",
      " 160000/ 200000:2.443658\n",
      " 161000/ 200000:2.176868\n",
      " 162000/ 200000:2.306614\n",
      " 163000/ 200000:2.250360\n",
      " 164000/ 200000:2.703605\n",
      " 165000/ 200000:2.298678\n",
      " 166000/ 200000:2.398743\n",
      " 167000/ 200000:2.503314\n",
      " 168000/ 200000:2.297989\n",
      " 169000/ 200000:2.455580\n",
      " 170000/ 200000:2.459548\n",
      " 171000/ 200000:2.231726\n",
      " 172000/ 200000:2.329191\n",
      " 173000/ 200000:2.124965\n",
      " 174000/ 200000:1.726113\n",
      " 175000/ 200000:2.046949\n",
      " 176000/ 200000:1.656346\n",
      " 177000/ 200000:1.706834\n",
      " 178000/ 200000:2.207504\n",
      " 179000/ 200000:2.262828\n",
      " 180000/ 200000:2.379273\n",
      " 181000/ 200000:1.941357\n",
      " 182000/ 200000:1.893971\n",
      " 183000/ 200000:2.414042\n",
      " 184000/ 200000:2.595402\n",
      " 185000/ 200000:2.157619\n",
      " 186000/ 200000:2.488811\n",
      " 187000/ 200000:2.333126\n",
      " 188000/ 200000:2.345360\n",
      " 189000/ 200000:2.506375\n",
      " 190000/ 200000:2.396687\n",
      " 191000/ 200000:2.514840\n",
      " 192000/ 200000:2.245075\n",
      " 193000/ 200000:1.830114\n",
      " 194000/ 200000:2.513215\n",
      " 195000/ 200000:2.414201\n",
      " 196000/ 200000:2.431102\n",
      " 197000/ 200000:2.061646\n",
      " 198000/ 200000:2.121042\n",
      " 199000/ 200000:2.408123\n"
     ]
    }
   ],
   "source": [
    "max_steps = 200000\n",
    "batch_size = 32\n",
    "lossi = []\n",
    "\n",
    "for i in range(max_steps):\n",
    "    ix = torch.randint(0, Xtr.shape[0], (batch_size,) ,generator=g)\n",
    "    Xb, Yb = Xtr[ix], Ytr[ix]\n",
    "    \n",
    "    emb = C[Xb]\n",
    "    embcat = emb.view(emb.shape[0], -1)\n",
    "    hpreact = embcat @ W1 + b1\n",
    "    h = torch.tanh(hpreact)\n",
    "    logits = h @ W2 + b2\n",
    "    loss = F.cross_entropy(logits, Yb)\n",
    "    \n",
    "    for p in parameters:\n",
    "        p.grad = None\n",
    "    loss.backward()\n",
    "    \n",
    "    lr = 0.1 if i < 10000 else 0.01\n",
    "    for p in parameters:\n",
    "        p.data += -lr * p.grad\n",
    "    \n",
    "    if i%1000 == 0:\n",
    "        print(f'{i:7d}/{max_steps:7d}:{loss.item():4f}')\n",
    "    \n",
    "    lossi.append(loss.log10().item())"
   ]
  },
  {
   "cell_type": "code",
   "execution_count": 27,
   "metadata": {},
   "outputs": [
    {
     "data": {
      "text/plain": [
       "[<matplotlib.lines.Line2D at 0x762b1a8e0650>]"
      ]
     },
     "execution_count": 27,
     "metadata": {},
     "output_type": "execute_result"
    },
    {
     "data": {
      "image/png": "[encoded data removed]",
      "text/plain": [
       "<Figure size 640x480 with 1 Axes>"
      ]
     },
     "metadata": {},
     "output_type": "display_data"
    }
   ],
   "source": [
    "plt.plot(lossi)"
   ]
  },
  {
   "cell_type": "code",
   "execution_count": 28,
   "metadata": {},
   "outputs": [
    {
     "name": "stdout",
     "output_type": "stream",
     "text": [
      "train 2.2285807132720947\n",
      "val 2.2443244457244873\n"
     ]
    }
   ],
   "source": [
    "@torch.no_grad()\n",
    "def split_loss(split):\n",
    "    x,y = {'train': (Xtr, Ytr),\n",
    "           'val': (Xdev, Ydev),\n",
    "           'test': (Xte, Yte)\n",
    "           }[split]\n",
    "    emb = C[x]\n",
    "    embcat = emb.view(emb.shape[0], -1)\n",
    "    h = torch.tanh(embcat @ W1 + b1)\n",
    "    logits = h @ W2 + b2\n",
    "    loss = F.cross_entropy(logits, y)\n",
    "    print(split, loss.item())\n",
    "    \n",
    "split_loss('train')\n",
    "split_loss('val')\n"
   ]
  },
  {
   "cell_type": "code",
   "execution_count": 32,
   "metadata": {},
   "outputs": [
    {
     "name": "stdout",
     "output_type": "stream",
     "text": [
      "mora.\n",
      "mayah.\n",
      "seel.\n",
      "ndyn.\n",
      "alarethrelejirlee.\n",
      "aderedieliighly.\n",
      "jenleigh.\n",
      "esopharleithimson.\n",
      "ami.\n",
      "sadbergahiriel.\n",
      "kendreelle.\n",
      "jose.\n",
      "caylon.\n",
      "ged.\n",
      "ryyah.\n",
      "faelo.\n",
      "kaysh.\n",
      "sanyan.\n",
      "hil.\n",
      "salyansus.\n"
     ]
    }
   ],
   "source": [
    "g = torch.Generator().manual_seed(2147483647 + 10)\n",
    "for _ in range(20):\n",
    "    out = []\n",
    "    context = [0] * block_size\n",
    "    while True:\n",
    "        emb = C[torch.tensor([context])]\n",
    "        h = torch.tanh(emb.view(1, -1)@W1 + b1)\n",
    "        logits = h @ W2 + b2\n",
    "        probs = F.softmax(logits, dim = 1)\n",
    "        \n",
    "        ix = torch.multinomial(probs, num_samples = 1, generator=g).item()\n",
    "        context = context[1:] + [ix]\n",
    "        out.append(ix)\n",
    "        if ix == 0:\n",
    "            break\n",
    "    print(''.join(itos[i] for i in out))\n",
    "        "
   ]
  }
 ],
 "metadata": {
  "kernelspec": {
   "display_name": "tm_env",
   "language": "python",
   "name": "python3"
  },
  "language_info": {
   "codemirror_mode": {
    "name": "ipython",
    "version": 3
   },
   "file_extension": ".py",
   "mimetype": "text/x-python",
   "name": "python",
   "nbconvert_exporter": "python",
   "pygments_lexer": "ipython3",
   "version": "3.11.7"
  }
 },
 "nbformat": 4,
 "nbformat_minor": 2
}
