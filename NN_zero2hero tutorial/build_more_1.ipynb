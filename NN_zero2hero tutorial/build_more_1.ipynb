{
 "cells": [
  {
   "cell_type": "markdown",
   "metadata": {},
   "source": [
    "# The spelled-out intro to language modeling: building makemore\n",
    "\n",
    "Link : https://youtu.be/PaCmpygFfXo?si=jIvON4hSs1XnDVP4"
   ]
  },
  {
   "cell_type": "code",
   "execution_count": null,
   "metadata": {},
   "outputs": [],
   "source": []
  }
 ],
 "metadata": {
  "language_info": {
   "name": "python"
  }
 },
 "nbformat": 4,
 "nbformat_minor": 2
}
