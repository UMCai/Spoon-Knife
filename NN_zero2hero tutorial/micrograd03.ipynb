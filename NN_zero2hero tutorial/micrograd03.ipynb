{
 "cells": [
  {
   "cell_type": "markdown",
   "metadata": {},
   "source": [
    "# Micrograd (part 3)"
   ]
  },
  {
   "cell_type": "markdown",
   "metadata": {},
   "source": [
    "In pytorch, the default floating point dtype is torch.float32\n",
    "\n",
    "Use double() to cast into float64"
   ]
  },
  {
   "cell_type": "code",
   "execution_count": 34,
   "metadata": {},
   "outputs": [
    {
     "name": "stdout",
     "output_type": "stream",
     "text": [
      "0.7071050214706146\n",
      "------\n",
      "x1 -1.500007465833125\n",
      "w1 1.0000049772220834\n",
      "x2 0.5000024886110417\n",
      "w2 0.0\n"
     ]
    }
   ],
   "source": [
    "import torch\n",
    "\n",
    "x1 = torch.tensor([2.0]).double()  ; x1.requires_grad = True\n",
    "x2 = torch.tensor([0.0]).double()  ; x2.requires_grad = True\n",
    "w1 = torch.tensor([-3.0]).double() ; w1.requires_grad = True\n",
    "w2 = torch.tensor([1.0]).double()  ; w2.requires_grad = True\n",
    "b = torch.Tensor([6.88137]).double() ; b.requires_grad = True\n",
    "\n",
    "# forward\n",
    "n = x1*w1 + x2*w2 + b\n",
    "o = torch.tanh(n)\n",
    "print(o.data.item())\n",
    "\n",
    "# backward\n",
    "o.backward()\n",
    "\n",
    "print('------')\n",
    "print('x1', x1.grad.item())\n",
    "print('w1', w1.grad.item())\n",
    "print('x2', x2.grad.item())\n",
    "print('w2', w2.grad.item())"
   ]
  }
 ],
 "metadata": {
  "kernelspec": {
   "display_name": "torch_monai_env",
   "language": "python",
   "name": "python3"
  },
  "language_info": {
   "codemirror_mode": {
    "name": "ipython",
    "version": 3
   },
   "file_extension": ".py",
   "mimetype": "text/x-python",
   "name": "python",
   "nbconvert_exporter": "python",
   "pygments_lexer": "ipython3",
   "version": "3.11.5"
  }
 },
 "nbformat": 4,
 "nbformat_minor": 2
}
